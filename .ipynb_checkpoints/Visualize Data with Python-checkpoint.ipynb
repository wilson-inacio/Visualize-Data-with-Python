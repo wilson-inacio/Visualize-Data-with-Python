{
 "cells": [
  {
   "cell_type": "markdown",
   "id": "e081773a-c7b5-473c-ac44-06bb38498871",
   "metadata": {},
   "source": [
    "# Visualize Data with Python\n",
    "### Gaming habits and psychological well-being"
   ]
  },
  {
   "cell_type": "markdown",
   "id": "82bc09cb-383b-4bdd-ae1a-a6ecac79cea7",
   "metadata": {},
   "source": [
    "#### Importing the data"
   ]
  },
  {
   "cell_type": "code",
   "execution_count": 1,
   "id": "2fc788e4-aaab-4d41-93dd-c41245ba4465",
   "metadata": {},
   "outputs": [
    {
     "name": "stdout",
     "output_type": "stream",
     "text": [
      "    Zeitstempel  GAD1  GAD2  GAD3  GAD4  GAD5  GAD6  GAD7  \\\n",
      "1  42052.004366     0     0     0     0     1     0     0   \n",
      "2  42052.006803     1     2     2     2     0     1     0   \n",
      "3  42052.038599     0     2     2     0     0     3     1   \n",
      "4  42052.068037     0     0     0     0     0     0     0   \n",
      "5  42052.089478     2     1     2     2     2     3     2   \n",
      "\n",
      "                   GADE  SWL1  ...  Birthplace    Residence  Reference  \\\n",
      "1  Not difficult at all     3  ...         USA          USA     Reddit   \n",
      "2    Somewhat difficult     3  ...         USA          USA     Reddit   \n",
      "3  Not difficult at all     2  ...     Germany      Germany     Reddit   \n",
      "4  Not difficult at all     2  ...         USA          USA     Reddit   \n",
      "5        Very difficult     2  ...         USA  South Korea     Reddit   \n",
      "\n",
      "                                           Playstyle  accept GAD_T  SWL_T  \\\n",
      "1                                       Singleplayer  Accept     1     23   \n",
      "2              Multiplayer - online - with strangers  Accept     8     16   \n",
      "3                                       Singleplayer  Accept     8     17   \n",
      "4  Multiplayer - online - with online acquaintanc...  Accept     0     17   \n",
      "5              Multiplayer - online - with strangers  Accept    14     14   \n",
      "\n",
      "  SPIN_T Residence_ISO3 Birthplace_ISO3  \n",
      "1    5.0            USA             USA  \n",
      "2   33.0            USA             USA  \n",
      "3   31.0            DEU             DEU  \n",
      "4   11.0            USA             USA  \n",
      "5   13.0            KOR             USA  \n",
      "\n",
      "[5 rows x 54 columns]\n",
      "<class 'pandas.core.frame.DataFrame'>\n",
      "Index: 13464 entries, 1 to 14250\n",
      "Data columns (total 54 columns):\n",
      " #   Column           Non-Null Count  Dtype  \n",
      "---  ------           --------------  -----  \n",
      " 0   Zeitstempel      13464 non-null  float64\n",
      " 1   GAD1             13464 non-null  int64  \n",
      " 2   GAD2             13464 non-null  int64  \n",
      " 3   GAD3             13464 non-null  int64  \n",
      " 4   GAD4             13464 non-null  int64  \n",
      " 5   GAD5             13464 non-null  int64  \n",
      " 6   GAD6             13464 non-null  int64  \n",
      " 7   GAD7             13464 non-null  int64  \n",
      " 8   GADE             12815 non-null  object \n",
      " 9   SWL1             13464 non-null  int64  \n",
      " 10  SWL2             13464 non-null  int64  \n",
      " 11  SWL3             13464 non-null  int64  \n",
      " 12  SWL4             13464 non-null  int64  \n",
      " 13  SWL5             13464 non-null  int64  \n",
      " 14  Game             13464 non-null  object \n",
      " 15  Platform         13464 non-null  object \n",
      " 16  Hours            13434 non-null  float64\n",
      " 17  earnings         13464 non-null  object \n",
      " 18  whyplay          13464 non-null  object \n",
      " 19  League           11612 non-null  object \n",
      " 20  highestleague    0 non-null      float64\n",
      " 21  streams          13364 non-null  float64\n",
      " 22  SPIN1            13340 non-null  float64\n",
      " 23  SPIN2            13310 non-null  float64\n",
      " 24  SPIN3            13324 non-null  float64\n",
      " 25  SPIN4            13305 non-null  float64\n",
      " 26  SPIN5            13298 non-null  float64\n",
      " 27  SPIN6            13308 non-null  float64\n",
      " 28  SPIN7            13326 non-null  float64\n",
      " 29  SPIN8            13320 non-null  float64\n",
      " 30  SPIN9            13306 non-null  float64\n",
      " 31  SPIN10           13304 non-null  float64\n",
      " 32  SPIN11           13277 non-null  float64\n",
      " 33  SPIN12           13296 non-null  float64\n",
      " 34  SPIN13           13277 non-null  float64\n",
      " 35  SPIN14           13308 non-null  float64\n",
      " 36  SPIN15           13317 non-null  float64\n",
      " 37  SPIN16           13317 non-null  float64\n",
      " 38  SPIN17           13289 non-null  float64\n",
      " 39  Narcissism       13441 non-null  float64\n",
      " 40  Gender           13464 non-null  object \n",
      " 41  Age              13464 non-null  int64  \n",
      " 42  Work             13426 non-null  object \n",
      " 43  Degree           11887 non-null  object \n",
      " 44  Birthplace       13464 non-null  object \n",
      " 45  Residence        13464 non-null  object \n",
      " 46  Reference        13449 non-null  object \n",
      " 47  Playstyle        13464 non-null  object \n",
      " 48  accept           13050 non-null  object \n",
      " 49  GAD_T            13464 non-null  int64  \n",
      " 50  SWL_T            13464 non-null  int64  \n",
      " 51  SPIN_T           12814 non-null  float64\n",
      " 52  Residence_ISO3   13354 non-null  object \n",
      " 53  Birthplace_ISO3  13343 non-null  object \n",
      "dtypes: float64(23), int64(15), object(16)\n",
      "memory usage: 5.6+ MB\n"
     ]
    }
   ],
   "source": [
    "# Importing the libraries I'll be using\n",
    "import pandas as pd\n",
    "import numpy as np\n",
    "import seaborn as sns\n",
    "from matplotlib import pyplot as plt\n",
    "\n",
    "# And importing our dataset\n",
    "gaming_study = pd.read_csv('GamingStudy_data.csv', encoding='windows-1252', index_col=0)\n",
    "\n",
    "# Previewing the first 5 rows\n",
    "print(gaming_study.head())\n",
    "\n",
    "# And getting a summary for the columns\n",
    "gaming_study.info()\n"
   ]
  },
  {
   "cell_type": "markdown",
   "id": "eabfae4b-abc1-4838-801e-4abe1e99d7e4",
   "metadata": {},
   "source": [
    "The Dataset is made of a high number of columns, consisting of the following information:\n",
    "|VARIABLE's\t|TYPE\t|EXPLANATION|\n",
    "|---|---|---|\n",
    "|Zeitstempel\t|Excel DateTime\t|Time stamp|\n",
    "|Reference\t|string\t|Where they know the study from|\n",
    "|Accept\t|string\t|Accepted consent form|\n",
    "|Hours\t|int\t|Hours played per week|\n",
    "|streams\t|int\t|Additionnal hours dealing with the game other than playing|\n",
    "|Game\t|string\t|Which game is played the most|\n",
    "|Platform\t|string\t|Which platform is used the most|\n",
    "|earnings\t|string\t|Earnings related to gaming (multiple choice plus 'Other')|\n",
    "|whyplay\t|string\t|Motivation for playing (multiple choice plus 'Other')|\n",
    "|Playstyle\t|string\t|Do they play online or offline? (single choice plus 'Other')|\n",
    "|League\t|string\t|Which League are they in (game-sppecific ranking, free-text)|\n",
    "|highestleague\t|string\t|Which League was their highest ever (game-sppecific ranking, free-text)|\n",
    "|SPIN_T\t|int\t|total SPIN score|\n",
    "|SPIN (1-17)\t|int\t|individual SPIN item scores|\n",
    "|GAD_T\t|int\t|total GAD score|\n",
    "|GAD (1-7)\t|int\t|individual GAD item scores|\n",
    "|GADE|string| GAD score difficulty on daily life|\n",
    "|SWL_T\t|int\t|total SWL score|\n",
    "|SWL (1-5)\t|int\t|individual SWL item scores|\n",
    "|Narcissism\t|int\t|SINS score|\n",
    "|Birthplace\t|int\t|Country of birth in English|\n",
    "|Birthplace_ISO3\t|string\t|Country of birth in ISO3 format|\n",
    "|Residence\t|string\t|Country of residence in English|\n",
    "|Residence_ISO3\t|string\t|Country of residence in ISO3 format|\n",
    "|Age\t|int\t|Age in years|\n",
    "|Work\t|string\t|Occupation status (single choice)|\n",
    "|Degree\t|string\t|Highest degree (single choice)|\n",
    "|Gender\t|string\t|Gender (single choice)|"
   ]
  },
  {
   "cell_type": "markdown",
   "id": "9db116ce-2ed2-444b-8752-4c419512f458",
   "metadata": {},
   "source": [
    "#### Cleaning the Data"
   ]
  },
  {
   "cell_type": "markdown",
   "id": "5d1103e2-1738-4f63-ac4d-70b7ca755ea0",
   "metadata": {},
   "source": [
    "For our data analysis, the data types make sense for the data stored in the columns, the exception being columns that were expected to be `int`, but because there's values missing it shows up as `float`. There's a high number of columns, but there's some that are not needed, such as the individual scores used to calculate the SPIN, GAD and SWL Total scores. There is also an empty column `highestleague`, that we also can drop. Brithplace countries and Residence countries are also repeated columns, appearing again as their ISO3 codes. For ease of reading, I'll drop the ISO3 columns. The `Zeitstempel` column, that collects the timestamp the survey was submitted, and the `accept` column where it's stored if the person accepted the consent is also unnecessary.\n",
    "\n",
    "While there are other columns that have missing values, I don't think the missing values are high number enough to invalidate the data in those columns.\n",
    "\n",
    "Dropping the unnecessary columns:"
   ]
  },
  {
   "cell_type": "code",
   "execution_count": 2,
   "id": "5db91e70-d2e7-4d5b-93ec-31e4fa56210e",
   "metadata": {},
   "outputs": [],
   "source": [
    "gaming_study = gaming_study.drop(columns = ['Zeitstempel', 'accept', 'highestleague', \\\n",
    "                            'SPIN1', 'SPIN2', 'SPIN3', 'SPIN4', 'SPIN5', 'SPIN6', 'SPIN7', 'SPIN8', 'SPIN9', 'SPIN10', \\\n",
    "                            'SPIN11', 'SPIN12', 'SPIN13', 'SPIN14', 'SPIN15', 'SPIN16', 'SPIN17', \\\n",
    "                            'GAD1', 'GAD2', 'GAD3', 'GAD4', 'GAD5', 'GAD6', 'GAD7', 'SWL1', 'SWL2', 'SWL3', 'SWL4', 'SWL5',\\\n",
    "                            'Birthplace_ISO3', 'Residence_ISO3'])"
   ]
  },
  {
   "cell_type": "markdown",
   "id": "6f789ec4-1905-4e1d-9b6a-5ed60f7f3c36",
   "metadata": {},
   "source": [
    "From the data analysis, there are also some columns that I think should be renamed so we can better understand the data in them:\n",
    "\n",
    "|Original|New Name|\n",
    "|---|---|\n",
    "|Hours|Hours_week|\n",
    "|streams|Additional_hours|\n",
    "|Birthplace|Birth_country|\n",
    "|Residence|Residence_country|\n",
    "|Work|Occupation|\n",
    "|Degree|Education|\n",
    "|whyplay|Motivation|\n",
    "|earnings|Earnings|\n",
    "|Narcissism|SINS_T|"
   ]
  },
  {
   "cell_type": "code",
   "execution_count": 3,
   "id": "56aef5aa-91b5-42a3-bc9c-332c435c0f06",
   "metadata": {},
   "outputs": [],
   "source": [
    "gaming_study.rename(columns={'Hours': 'Hours_week', 'streams': 'Additional_hours', 'Birthplace': 'Birth_country', 'Residence': 'Residence_country', \\\n",
    "                  'Work': 'Occupation', 'Degree': 'Education', 'whyplay': 'Motivation', 'earnings': 'Earnings', 'Narcissism': 'SINS_T'}, inplace=True)"
   ]
  },
  {
   "cell_type": "markdown",
   "id": "ad10682b-8dc4-4bac-9ea8-92ae4debbd4e",
   "metadata": {},
   "source": [
    "Let's investigate our updated DataFrame so we can get some more information:"
   ]
  },
  {
   "cell_type": "code",
   "execution_count": 4,
   "id": "ef9bf149-b2d8-4131-aab2-0a2bfa46b7db",
   "metadata": {},
   "outputs": [
    {
     "name": "stdout",
     "output_type": "stream",
     "text": [
      "<class 'pandas.core.frame.DataFrame'>\n",
      "Index: 13464 entries, 1 to 14250\n",
      "Data columns (total 20 columns):\n",
      " #   Column             Non-Null Count  Dtype  \n",
      "---  ------             --------------  -----  \n",
      " 0   GADE               12815 non-null  object \n",
      " 1   Game               13464 non-null  object \n",
      " 2   Platform           13464 non-null  object \n",
      " 3   Hours_week         13434 non-null  float64\n",
      " 4   Earnings           13464 non-null  object \n",
      " 5   Motivation         13464 non-null  object \n",
      " 6   League             11612 non-null  object \n",
      " 7   Additional_hours   13364 non-null  float64\n",
      " 8   SINS_T             13441 non-null  float64\n",
      " 9   Gender             13464 non-null  object \n",
      " 10  Age                13464 non-null  int64  \n",
      " 11  Occupation         13426 non-null  object \n",
      " 12  Education          11887 non-null  object \n",
      " 13  Birth_country      13464 non-null  object \n",
      " 14  Residence_country  13464 non-null  object \n",
      " 15  Reference          13449 non-null  object \n",
      " 16  Playstyle          13464 non-null  object \n",
      " 17  GAD_T              13464 non-null  int64  \n",
      " 18  SWL_T              13464 non-null  int64  \n",
      " 19  SPIN_T             12814 non-null  float64\n",
      "dtypes: float64(4), int64(3), object(13)\n",
      "memory usage: 2.2+ MB\n",
      "None\n",
      "         Hours_week  Additional_hours        SINS_T           Age  \\\n",
      "count  13434.000000      13364.000000  13441.000000  13464.000000   \n",
      "mean      22.247357         11.233538      2.027677     20.930407   \n",
      "std       70.284502         78.549209      1.061842      3.300897   \n",
      "min        0.000000          0.000000      1.000000     18.000000   \n",
      "25%       12.000000          4.000000      1.000000     18.000000   \n",
      "50%       20.000000          8.000000      2.000000     20.000000   \n",
      "75%       28.000000         15.000000      3.000000     22.000000   \n",
      "max     8000.000000       9001.000000      5.000000     63.000000   \n",
      "\n",
      "              GAD_T         SWL_T        SPIN_T  \n",
      "count  13464.000000  13464.000000  12814.000000  \n",
      "mean       5.211973     19.788844     19.848525  \n",
      "std        4.713267      7.229243     13.467493  \n",
      "min        0.000000      5.000000      0.000000  \n",
      "25%        2.000000     14.000000      9.000000  \n",
      "50%        4.000000     20.000000     17.000000  \n",
      "75%        8.000000     26.000000     28.000000  \n",
      "max       21.000000     35.000000     68.000000  \n"
     ]
    }
   ],
   "source": [
    "print(gaming_study.info())\n",
    "print(gaming_study.describe())"
   ]
  },
  {
   "cell_type": "markdown",
   "id": "49d7e08f-9c88-40e9-bad8-b3cccd78698a",
   "metadata": {},
   "source": [
    "By analysing the descriptive summaries of the columns, it can be noted that there's high standart deviation for the `Hours_week` and `Additional_hours` columns, which indicates the likelyhood of outliers, also, the maximum values for those two columns are '8000' and '9000', which are clearly impossible, so I'll check the 5 maximum hours played:"
   ]
  },
  {
   "cell_type": "code",
   "execution_count": 5,
   "id": "629ad8d3-9108-4bcb-b0ce-5a8f62e33589",
   "metadata": {},
   "outputs": [
    {
     "name": "stdout",
     "output_type": "stream",
     "text": [
      "4046     8000.0\n",
      "9944      420.0\n",
      "9439      160.0\n",
      "14056     150.0\n",
      "3267      140.0\n",
      "8024      140.0\n",
      "4575      120.0\n",
      "9247      120.0\n",
      "653       120.0\n",
      "4268      120.0\n",
      "Name: Hours_week, dtype: float64\n"
     ]
    }
   ],
   "source": [
    "max_hours= gaming_study.sort_values(by='Hours_week', ascending=False).iloc[:10]\n",
    "print(max_hours['Hours_week'])"
   ]
  },
  {
   "cell_type": "markdown",
   "id": "c1da0b96-8b33-4acf-b50c-286dad477a7e",
   "metadata": {},
   "source": [
    "From analysing this piece of information, I can see that there are some unrealistic values, as a week has 168 hours, some values are clearly impossible, sucha as gaming 8000, 420, or even 160 hours a week, as examples. Upon some investigating, I found information from studies that indicate most harcore gamers play up to 50 hours a week, with maximum at 80 (Consumer Technology Association (U.S., 2022) = 37 hours/week, Niko Partners (China) = 42 hours/week,NPD / TechSpot (U.S.) = 48.5 hours/week).\n",
    "Even though this information is clearly impossible, I decided to keep those values in the database, to check if there is any correlations between those values and the wellbeing scores."
   ]
  },
  {
   "cell_type": "markdown",
   "id": "c406e447-6db6-4056-b539-70f115a82dc9",
   "metadata": {},
   "source": [
    "I'll now check the values in the columns `Motivation` and `League`:"
   ]
  },
  {
   "cell_type": "code",
   "execution_count": 6,
   "id": "e3fbc4b0-88c3-4d5c-bb46-fde267dfa229",
   "metadata": {},
   "outputs": [
    {
     "name": "stdout",
     "output_type": "stream",
     "text": [
      "Motivation\n",
      "having fun                                   5289\n",
      "improving                                    4927\n",
      "winning                                      2091\n",
      "relaxing                                      654\n",
      "All of the above                               26\n",
      "                                             ... \n",
      "winning, improving AND having fun               1\n",
      "talking to irl friends                          1\n",
      "Forgetting about my drug addiction              1\n",
      "Having fun and improving at the same time       1\n",
      "Ranked = winning Normals = Fun                  1\n",
      "Name: count, Length: 407, dtype: int64 \n",
      "\n",
      "League\n",
      "Gold                                             970\n",
      "Silver                                           650\n",
      "Platinum                                         635\n",
      "Diamond                                          549\n",
      "gold                                             316\n",
      "                                                ... \n",
      "euw                                                1\n",
      "Gold 3, but this season goal is plat               1\n",
      "Currently unraked, Gold in 2 previous seasons      1\n",
      "legendary, masters                                 1\n",
      "AHGL                                               1\n",
      "Name: count, Length: 1454, dtype: int64\n"
     ]
    }
   ],
   "source": [
    "print(gaming_study.Motivation.value_counts(), '\\n')\n",
    "print(gaming_study.League.value_counts())"
   ]
  },
  {
   "cell_type": "markdown",
   "id": "0109662c-d64c-4a7f-9444-1d7b0e7f0e71",
   "metadata": {},
   "source": [
    "For the sake of consistency, I'm changing the values on those two columns to Tile case, and checking the values again:"
   ]
  },
  {
   "cell_type": "code",
   "execution_count": 7,
   "id": "81dcb602-082b-4530-954d-5592f110493d",
   "metadata": {},
   "outputs": [
    {
     "name": "stdout",
     "output_type": "stream",
     "text": [
      "Motivation\n",
      "Having Fun                                   5289\n",
      "Improving                                    4927\n",
      "Winning                                      2091\n",
      "Relaxing                                      654\n",
      "All Of The Above                               49\n",
      "                                             ... \n",
      "Forgetting About My Drug Addiction              1\n",
      "Having Fun And Improving At The Same Time       1\n",
      "Winning And Improving.                          1\n",
      "Escaping Reality                                1\n",
      "Winning And Improving At The Same Time          1\n",
      "Name: count, Length: 377, dtype: int64 \n",
      "\n",
      "League\n",
      "Gold                            1292\n",
      "Silver                           866\n",
      "Platinum                         803\n",
      "Diamond                          701\n",
      "Unranked                         383\n",
      "                                ... \n",
      "Unranked Currently.                1\n",
      "I Don'T Know What That Means       1\n",
      "Bad                                1\n",
      "Diamond/Master                     1\n",
      "Pplatinum                          1\n",
      "Name: count, Length: 1259, dtype: int64\n"
     ]
    }
   ],
   "source": [
    "gaming_study['Motivation'] = gaming_study['Motivation'].str.title()\n",
    "gaming_study['League'] = gaming_study['League'].str.title()\n",
    "\n",
    "print(gaming_study.Motivation.value_counts(), '\\n')\n",
    "print(gaming_study.League.value_counts())"
   ]
  },
  {
   "cell_type": "markdown",
   "id": "1ddf9b77-c9e9-4ccc-9e3d-5d23a3effc12",
   "metadata": {},
   "source": [
    "Here, we can see the number of unique values for the `Motivation` and the `League` decreased, meaning that there were some identical answers that only differed on the casing of the font used. There are still a lot of unique values on both columns, with `Motivation` totalling 377 different answers and `League` totaling 1259."
   ]
  }
 ],
 "metadata": {
  "kernelspec": {
   "display_name": "Python 3 (ipykernel)",
   "language": "python",
   "name": "python3"
  },
  "language_info": {
   "codemirror_mode": {
    "name": "ipython",
    "version": 3
   },
   "file_extension": ".py",
   "mimetype": "text/x-python",
   "name": "python",
   "nbconvert_exporter": "python",
   "pygments_lexer": "ipython3",
   "version": "3.13.5"
  }
 },
 "nbformat": 4,
 "nbformat_minor": 5
}
