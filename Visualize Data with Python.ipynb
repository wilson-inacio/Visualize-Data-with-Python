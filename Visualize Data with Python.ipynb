{
 "cells": [
  {
   "cell_type": "markdown",
   "id": "e081773a-c7b5-473c-ac44-06bb38498871",
   "metadata": {},
   "source": [
    "# Visualize Data with Python\n",
    "### Gaming habits and psychological well-being"
   ]
  },
  {
   "cell_type": "code",
   "execution_count": null,
   "id": "2fc788e4-aaab-4d41-93dd-c41245ba4465",
   "metadata": {},
   "outputs": [],
   "source": []
  }
 ],
 "metadata": {
  "kernelspec": {
   "display_name": "Python 3 (ipykernel)",
   "language": "python",
   "name": "python3"
  },
  "language_info": {
   "codemirror_mode": {
    "name": "ipython",
    "version": 3
   },
   "file_extension": ".py",
   "mimetype": "text/x-python",
   "name": "python",
   "nbconvert_exporter": "python",
   "pygments_lexer": "ipython3",
   "version": "3.13.5"
  }
 },
 "nbformat": 4,
 "nbformat_minor": 5
}
